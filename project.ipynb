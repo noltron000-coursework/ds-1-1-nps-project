{
 "cells": [
  {
   "cell_type": "markdown",
   "metadata": {},
   "source": [
    "# NPS Project\n",
    "See my github repo: [noltron000](https://github.com/noltron000/ds-1-1-nps-project)"
   ]
  },
  {
   "cell_type": "code",
   "execution_count": 221,
   "metadata": {},
   "outputs": [],
   "source": [
    "import pandas\n",
    "import numpy\n",
    "import seaborn\n",
    "import matplotlib.pyplot as plot\n",
    "\n",
    "data = pandas.read_csv('surveys/2017/student_feedback.csv')"
   ]
  },
  {
   "cell_type": "code",
   "execution_count": 222,
   "metadata": {
    "scrolled": true
   },
   "outputs": [
    {
     "data": {
      "text/html": [
       "<div>\n",
       "<style scoped>\n",
       "    .dataframe tbody tr th:only-of-type {\n",
       "        vertical-align: middle;\n",
       "    }\n",
       "\n",
       "    .dataframe tbody tr th {\n",
       "        vertical-align: top;\n",
       "    }\n",
       "\n",
       "    .dataframe thead th {\n",
       "        text-align: right;\n",
       "    }\n",
       "</style>\n",
       "<table border=\"1\" class=\"dataframe\">\n",
       "  <thead>\n",
       "    <tr style=\"text-align: right;\">\n",
       "      <th></th>\n",
       "      <th>ID</th>\n",
       "      <th>Location</th>\n",
       "      <th>Track</th>\n",
       "      <th>Week</th>\n",
       "      <th>Rating (Num)</th>\n",
       "      <th>Schedule Pacing</th>\n",
       "    </tr>\n",
       "  </thead>\n",
       "  <tbody>\n",
       "    <tr>\n",
       "      <th>0</th>\n",
       "      <td>134</td>\n",
       "      <td>San Francisco</td>\n",
       "      <td>Apps, Explorer</td>\n",
       "      <td>Week 1</td>\n",
       "      <td>3</td>\n",
       "      <td>Just right</td>\n",
       "    </tr>\n",
       "    <tr>\n",
       "      <th>1</th>\n",
       "      <td>36</td>\n",
       "      <td>Los Angeles</td>\n",
       "      <td>Apps</td>\n",
       "      <td>Week 1</td>\n",
       "      <td>4</td>\n",
       "      <td>A little too fast</td>\n",
       "    </tr>\n",
       "    <tr>\n",
       "      <th>2</th>\n",
       "      <td>117</td>\n",
       "      <td>San Francisco</td>\n",
       "      <td>Games</td>\n",
       "      <td>Week 1</td>\n",
       "      <td>4</td>\n",
       "      <td>Way too slow</td>\n",
       "    </tr>\n",
       "    <tr>\n",
       "      <th>3</th>\n",
       "      <td>253</td>\n",
       "      <td>NaN</td>\n",
       "      <td>NaN</td>\n",
       "      <td>Week 2</td>\n",
       "      <td>4</td>\n",
       "      <td>A little too fast</td>\n",
       "    </tr>\n",
       "    <tr>\n",
       "      <th>4</th>\n",
       "      <td>350</td>\n",
       "      <td>New York City</td>\n",
       "      <td>Apps, Explorer</td>\n",
       "      <td>Week 1</td>\n",
       "      <td>4</td>\n",
       "      <td>Just right</td>\n",
       "    </tr>\n",
       "    <tr>\n",
       "      <th>5</th>\n",
       "      <td>23</td>\n",
       "      <td>Redwood City</td>\n",
       "      <td>Apps</td>\n",
       "      <td>Week 1</td>\n",
       "      <td>5</td>\n",
       "      <td>Just right</td>\n",
       "    </tr>\n",
       "  </tbody>\n",
       "</table>\n",
       "</div>"
      ],
      "text/plain": [
       "    ID       Location           Track    Week Rating (Num)    Schedule Pacing\n",
       "0  134  San Francisco  Apps, Explorer  Week 1            3         Just right\n",
       "1   36    Los Angeles            Apps  Week 1            4  A little too fast\n",
       "2  117  San Francisco           Games  Week 1            4       Way too slow\n",
       "3  253            NaN             NaN  Week 2            4  A little too fast\n",
       "4  350  New York City  Apps, Explorer  Week 1            4         Just right\n",
       "5   23   Redwood City            Apps  Week 1            5         Just right"
      ]
     },
     "execution_count": 222,
     "metadata": {},
     "output_type": "execute_result"
    }
   ],
   "source": [
    "data.head(6)"
   ]
  },
  {
   "cell_type": "markdown",
   "metadata": {},
   "source": [
    "## Parsing Data"
   ]
  },
  {
   "cell_type": "code",
   "execution_count": 223,
   "metadata": {},
   "outputs": [],
   "source": [
    "# drop the arbitrary ID column; its not relevent\n",
    "data = data.drop('ID', axis=1)"
   ]
  },
  {
   "cell_type": "code",
   "execution_count": 224,
   "metadata": {},
   "outputs": [],
   "source": [
    "# I don't like capitalization at all in my dataset...\n",
    "data['Location'] = data['Location'].str.lower()\n",
    "data['Track'] = data['Track'].str.lower()\n",
    "data['Schedule Pacing'] = data['Schedule Pacing'].str.lower()"
   ]
  },
  {
   "cell_type": "code",
   "execution_count": 225,
   "metadata": {},
   "outputs": [
    {
     "data": {
      "text/plain": [
       "Location           object\n",
       "Track              object\n",
       "Week               object\n",
       "Rating (Num)       object\n",
       "Schedule Pacing    object\n",
       "dtype: object"
      ]
     },
     "execution_count": 225,
     "metadata": {},
     "output_type": "execute_result"
    }
   ],
   "source": [
    "# Dropping the first five characters from the week column;\n",
    "# this should gives a numeric string in the end.\n",
    "#\n",
    "# Each week begins with five characters -- \"week \"\n",
    "# and ends with a numeric string, such as \"3\".\n",
    "data['Week'] = data['Week'].str[5:]\n",
    "\n",
    "# Still, the data is all stored as strings.\n",
    "data.dtypes"
   ]
  },
  {
   "cell_type": "code",
   "execution_count": 226,
   "metadata": {},
   "outputs": [
    {
     "data": {
      "text/plain": [
       "Location           object\n",
       "Track              object\n",
       "Week                int64\n",
       "Rating (Num)       object\n",
       "Schedule Pacing    object\n",
       "dtype: object"
      ]
     },
     "execution_count": 226,
     "metadata": {},
     "output_type": "execute_result"
    }
   ],
   "source": [
    "# Start by converting weeks to a float value.\n",
    "# I use float because it allows NaN, unlike integers.\n",
    "\n",
    "data['Week'] = pandas.to_numeric(data['Week'], errors='coerce').astype(int)\n",
    "\n",
    "data.dtypes"
   ]
  },
  {
   "cell_type": "code",
   "execution_count": 227,
   "metadata": {},
   "outputs": [
    {
     "data": {
      "text/plain": [
       "Location            object\n",
       "Track               object\n",
       "Week                 int64\n",
       "Schedule Pacing     object\n",
       "Rating             float64\n",
       "dtype: object"
      ]
     },
     "execution_count": 227,
     "metadata": {},
     "output_type": "execute_result"
    }
   ],
   "source": [
    "# Looks like the rating is a string too, instead of a number.\n",
    "\n",
    "# First a rename would be nice.\n",
    "data['Rating'] = data['Rating (Num)']\n",
    "data = data.drop('Rating (Num)', axis=1)\n",
    "\n",
    "# Now we can convert these ratings to numeric values as well.\n",
    "data['Rating'] = pandas.to_numeric(data['Rating'], errors='coerce').astype(float)\n",
    "\n",
    "data.dtypes"
   ]
  },
  {
   "cell_type": "code",
   "execution_count": 228,
   "metadata": {},
   "outputs": [
    {
     "data": {
      "text/plain": [
       "Location            object\n",
       "Track               object\n",
       "Week                 int64\n",
       "Schedule Pacing     object\n",
       "Rating             float64\n",
       "dtype: object"
      ]
     },
     "execution_count": 228,
     "metadata": {},
     "output_type": "execute_result"
    }
   ],
   "source": [
    "# data['Track']\n",
    "\n",
    "########\n",
    "# TODO #\n",
    "########\n",
    "# I'd really like to split the data['Track'] column up...\n",
    "# However I'll need to visit Kash in office hours to get help with this.\n",
    "# This field is string data, but its actually comma-delimited.\n",
    "# The data can hold more than one item, and I need a structure to represent this.\n",
    "\n",
    "data.dtypes"
   ]
  },
  {
   "cell_type": "markdown",
   "metadata": {},
   "source": [
    "### NPS  <small>(net promoter score)</small>\n",
    "\n",
    "The main purpose of this assignment is to find NPS statistics on this dataset. Determining the NPS statistics of a single row is easy. Each row has a *Rating* entry. If the value is 8 or more, the review is as a \"promoter\". If the value is 7 or less, the review is as a \"detractor\". Its simply a way to catagorize these numeric entries.\n",
    "\n",
    "One way to go about this problem is to generate a simple new column based on the *Rating* column. We can call the new column NPS. The code below handles these situations."
   ]
  },
  {
   "cell_type": "code",
   "execution_count": 229,
   "metadata": {},
   "outputs": [
    {
     "data": {
      "text/html": [
       "<div>\n",
       "<style scoped>\n",
       "    .dataframe tbody tr th:only-of-type {\n",
       "        vertical-align: middle;\n",
       "    }\n",
       "\n",
       "    .dataframe tbody tr th {\n",
       "        vertical-align: top;\n",
       "    }\n",
       "\n",
       "    .dataframe thead th {\n",
       "        text-align: right;\n",
       "    }\n",
       "</style>\n",
       "<table border=\"1\" class=\"dataframe\">\n",
       "  <thead>\n",
       "    <tr style=\"text-align: right;\">\n",
       "      <th></th>\n",
       "      <th>Location</th>\n",
       "      <th>Track</th>\n",
       "      <th>Week</th>\n",
       "      <th>Schedule Pacing</th>\n",
       "      <th>Rating</th>\n",
       "      <th>NPS</th>\n",
       "    </tr>\n",
       "  </thead>\n",
       "  <tbody>\n",
       "    <tr>\n",
       "      <th>0</th>\n",
       "      <td>san francisco</td>\n",
       "      <td>apps, explorer</td>\n",
       "      <td>1</td>\n",
       "      <td>just right</td>\n",
       "      <td>3.0</td>\n",
       "      <td>detractor</td>\n",
       "    </tr>\n",
       "    <tr>\n",
       "      <th>1</th>\n",
       "      <td>los angeles</td>\n",
       "      <td>apps</td>\n",
       "      <td>1</td>\n",
       "      <td>a little too fast</td>\n",
       "      <td>4.0</td>\n",
       "      <td>detractor</td>\n",
       "    </tr>\n",
       "    <tr>\n",
       "      <th>2</th>\n",
       "      <td>san francisco</td>\n",
       "      <td>games</td>\n",
       "      <td>1</td>\n",
       "      <td>way too slow</td>\n",
       "      <td>4.0</td>\n",
       "      <td>detractor</td>\n",
       "    </tr>\n",
       "    <tr>\n",
       "      <th>3</th>\n",
       "      <td>NaN</td>\n",
       "      <td>NaN</td>\n",
       "      <td>2</td>\n",
       "      <td>a little too fast</td>\n",
       "      <td>4.0</td>\n",
       "      <td>detractor</td>\n",
       "    </tr>\n",
       "    <tr>\n",
       "      <th>4</th>\n",
       "      <td>new york city</td>\n",
       "      <td>apps, explorer</td>\n",
       "      <td>1</td>\n",
       "      <td>just right</td>\n",
       "      <td>4.0</td>\n",
       "      <td>detractor</td>\n",
       "    </tr>\n",
       "  </tbody>\n",
       "</table>\n",
       "</div>"
      ],
      "text/plain": [
       "        Location           Track  Week    Schedule Pacing  Rating        NPS\n",
       "0  san francisco  apps, explorer     1         just right     3.0  detractor\n",
       "1    los angeles            apps     1  a little too fast     4.0  detractor\n",
       "2  san francisco           games     1       way too slow     4.0  detractor\n",
       "3            NaN             NaN     2  a little too fast     4.0  detractor\n",
       "4  new york city  apps, explorer     1         just right     4.0  detractor"
      ]
     },
     "execution_count": 229,
     "metadata": {},
     "output_type": "execute_result"
    }
   ],
   "source": [
    "# store conditionals as variables\n",
    "promoter = data['Rating'] >= 8\n",
    "detractor = data['Rating'] < 8\n",
    "\n",
    "# UGLY: please refactor me!\n",
    "data['NPS'] = numpy.where(promoter, 'promoter', numpy.where(detractor, 'detractor', numpy.nan))\n",
    "\n",
    "data.head()"
   ]
  },
  {
   "cell_type": "code",
   "execution_count": 232,
   "metadata": {},
   "outputs": [
    {
     "data": {
      "text/html": [
       "<div>\n",
       "<style scoped>\n",
       "    .dataframe tbody tr th:only-of-type {\n",
       "        vertical-align: middle;\n",
       "    }\n",
       "\n",
       "    .dataframe tbody tr th {\n",
       "        vertical-align: top;\n",
       "    }\n",
       "\n",
       "    .dataframe thead th {\n",
       "        text-align: right;\n",
       "    }\n",
       "</style>\n",
       "<table border=\"1\" class=\"dataframe\">\n",
       "  <thead>\n",
       "    <tr style=\"text-align: right;\">\n",
       "      <th></th>\n",
       "      <th>Location</th>\n",
       "      <th>Track</th>\n",
       "      <th>Week</th>\n",
       "      <th>Schedule Pacing</th>\n",
       "      <th>Rating</th>\n",
       "      <th>NPS</th>\n",
       "    </tr>\n",
       "  </thead>\n",
       "  <tbody>\n",
       "    <tr>\n",
       "      <th>0</th>\n",
       "      <td>san francisco</td>\n",
       "      <td>apps, explorer</td>\n",
       "      <td>1</td>\n",
       "      <td>just right</td>\n",
       "      <td>3.0</td>\n",
       "      <td>detractor</td>\n",
       "    </tr>\n",
       "    <tr>\n",
       "      <th>1</th>\n",
       "      <td>los angeles</td>\n",
       "      <td>apps</td>\n",
       "      <td>1</td>\n",
       "      <td>a little too fast</td>\n",
       "      <td>4.0</td>\n",
       "      <td>detractor</td>\n",
       "    </tr>\n",
       "    <tr>\n",
       "      <th>2</th>\n",
       "      <td>san francisco</td>\n",
       "      <td>games</td>\n",
       "      <td>1</td>\n",
       "      <td>way too slow</td>\n",
       "      <td>4.0</td>\n",
       "      <td>detractor</td>\n",
       "    </tr>\n",
       "    <tr>\n",
       "      <th>3</th>\n",
       "      <td>NaN</td>\n",
       "      <td>NaN</td>\n",
       "      <td>2</td>\n",
       "      <td>a little too fast</td>\n",
       "      <td>4.0</td>\n",
       "      <td>detractor</td>\n",
       "    </tr>\n",
       "    <tr>\n",
       "      <th>4</th>\n",
       "      <td>new york city</td>\n",
       "      <td>apps, explorer</td>\n",
       "      <td>1</td>\n",
       "      <td>just right</td>\n",
       "      <td>4.0</td>\n",
       "      <td>detractor</td>\n",
       "    </tr>\n",
       "    <tr>\n",
       "      <th>96</th>\n",
       "      <td>atlanta</td>\n",
       "      <td>apps, explorer</td>\n",
       "      <td>1</td>\n",
       "      <td>just right</td>\n",
       "      <td>8.0</td>\n",
       "      <td>promoter</td>\n",
       "    </tr>\n",
       "    <tr>\n",
       "      <th>97</th>\n",
       "      <td>atlanta</td>\n",
       "      <td>apps</td>\n",
       "      <td>1</td>\n",
       "      <td>just right</td>\n",
       "      <td>8.0</td>\n",
       "      <td>promoter</td>\n",
       "    </tr>\n",
       "    <tr>\n",
       "      <th>98</th>\n",
       "      <td>atlanta</td>\n",
       "      <td>apps, explorer</td>\n",
       "      <td>1</td>\n",
       "      <td>just right</td>\n",
       "      <td>8.0</td>\n",
       "      <td>promoter</td>\n",
       "    </tr>\n",
       "    <tr>\n",
       "      <th>99</th>\n",
       "      <td>atlanta</td>\n",
       "      <td>apps</td>\n",
       "      <td>1</td>\n",
       "      <td>a little too slow</td>\n",
       "      <td>8.0</td>\n",
       "      <td>promoter</td>\n",
       "    </tr>\n",
       "    <tr>\n",
       "      <th>100</th>\n",
       "      <td>redwood city</td>\n",
       "      <td>apps</td>\n",
       "      <td>1</td>\n",
       "      <td>a little too slow</td>\n",
       "      <td>8.0</td>\n",
       "      <td>promoter</td>\n",
       "    </tr>\n",
       "    <tr>\n",
       "      <th>1310</th>\n",
       "      <td>NaN</td>\n",
       "      <td>NaN</td>\n",
       "      <td>2</td>\n",
       "      <td>NaN</td>\n",
       "      <td>NaN</td>\n",
       "      <td>nan</td>\n",
       "    </tr>\n",
       "    <tr>\n",
       "      <th>1322</th>\n",
       "      <td>NaN</td>\n",
       "      <td>NaN</td>\n",
       "      <td>3</td>\n",
       "      <td>NaN</td>\n",
       "      <td>NaN</td>\n",
       "      <td>nan</td>\n",
       "    </tr>\n",
       "    <tr>\n",
       "      <th>1411</th>\n",
       "      <td>NaN</td>\n",
       "      <td>NaN</td>\n",
       "      <td>3</td>\n",
       "      <td>NaN</td>\n",
       "      <td>NaN</td>\n",
       "      <td>nan</td>\n",
       "    </tr>\n",
       "  </tbody>\n",
       "</table>\n",
       "</div>"
      ],
      "text/plain": [
       "           Location           Track  Week    Schedule Pacing  Rating  \\\n",
       "0     san francisco  apps, explorer     1         just right     3.0   \n",
       "1       los angeles            apps     1  a little too fast     4.0   \n",
       "2     san francisco           games     1       way too slow     4.0   \n",
       "3               NaN             NaN     2  a little too fast     4.0   \n",
       "4     new york city  apps, explorer     1         just right     4.0   \n",
       "96          atlanta  apps, explorer     1         just right     8.0   \n",
       "97          atlanta            apps     1         just right     8.0   \n",
       "98          atlanta  apps, explorer     1         just right     8.0   \n",
       "99          atlanta            apps     1  a little too slow     8.0   \n",
       "100    redwood city            apps     1  a little too slow     8.0   \n",
       "1310            NaN             NaN     2                NaN     NaN   \n",
       "1322            NaN             NaN     3                NaN     NaN   \n",
       "1411            NaN             NaN     3                NaN     NaN   \n",
       "\n",
       "            NPS  \n",
       "0     detractor  \n",
       "1     detractor  \n",
       "2     detractor  \n",
       "3     detractor  \n",
       "4     detractor  \n",
       "96     promoter  \n",
       "97     promoter  \n",
       "98     promoter  \n",
       "99     promoter  \n",
       "100    promoter  \n",
       "1310        nan  \n",
       "1322        nan  \n",
       "1411        nan  "
      ]
     },
     "execution_count": 232,
     "metadata": {},
     "output_type": "execute_result"
    }
   ],
   "source": [
    "# Made a groupby for NPS\n",
    "nps_group = data.groupby(['NPS'])\n",
    "nps_group.head()"
   ]
  },
  {
   "cell_type": "markdown",
   "metadata": {},
   "source": [
    "## Visualizations"
   ]
  },
  {
   "cell_type": "code",
   "execution_count": 231,
   "metadata": {
    "scrolled": true
   },
   "outputs": [
    {
     "data": {
      "text/plain": [
       "<matplotlib.axes._subplots.AxesSubplot at 0x1a259a21d0>"
      ]
     },
     "execution_count": 231,
     "metadata": {},
     "output_type": "execute_result"
    },
    {
     "data": {
      "image/png": "[encoded data removed]",
      "text/plain": [
       "<Figure size 432x288 with 1 Axes>"
      ]
     },
     "metadata": {},
     "output_type": "display_data"
    }
   ],
   "source": [
    "seaborn.set(style='darkgrid')\n",
    "\n",
    "seaborn.lineplot(x='Week', y='Rating', data=data)"
   ]
  }
 ],
 "metadata": {
  "kernelspec": {
   "display_name": "Python 3",
   "language": "python",
   "name": "python3"
  },
  "language_info": {
   "codemirror_mode": {
    "name": "ipython",
    "version": 3
   },
   "file_extension": ".py",
   "mimetype": "text/x-python",
   "name": "python",
   "nbconvert_exporter": "python",
   "pygments_lexer": "ipython3",
   "version": "3.7.3"
  }
 },
 "nbformat": 4,
 "nbformat_minor": 2
}
